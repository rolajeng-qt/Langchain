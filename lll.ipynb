{
 "cells": [
  {
   "cell_type": "code",
   "execution_count": null,
   "id": "e804c7bf-23db-4b99-b69c-8526a59104cf",
   "metadata": {},
   "outputs": [],
   "source": [
    "from langchain.tools import tool\n",
    "import os\n",
    "\n",
    "@tool\n",
    "def open_camera(_: str) -> str:\n",
    "    \"\"\"打開 Windows 相機應用程式\"\"\"\n",
    "    try:\n",
    "        os.system(\"start microsoft.windows.camera:\")\n",
    "        return \"已打開相機應用程式。\"\n",
    "    except Exception as e:\n",
    "        return f\"打開相機時發生錯誤：{e}\"\n"
   ]
  },
  {
   "cell_type": "markdown",
   "id": "10d8dd1d",
   "metadata": {},
   "source": []
  }
 ],
 "metadata": {
  "kernelspec": {
   "display_name": ".venv",
   "language": "python",
   "name": "python3"
  },
  "language_info": {
   "codemirror_mode": {
    "name": "ipython",
    "version": 3
   },
   "file_extension": ".py",
   "mimetype": "text/x-python",
   "name": "python",
   "nbconvert_exporter": "python",
   "pygments_lexer": "ipython3",
   "version": "3.12.7"
  }
 },
 "nbformat": 4,
 "nbformat_minor": 5
}
